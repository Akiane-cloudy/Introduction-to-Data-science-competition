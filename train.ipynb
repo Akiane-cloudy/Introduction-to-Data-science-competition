{
  "nbformat": 4,
  "nbformat_minor": 0,
  "metadata": {
    "colab": {
      "provenance": [],
      "toc_visible": true,
      "authorship_tag": "ABX9TyNILPkKONAfugy4xq94PkNz",
      "include_colab_link": true
    },
    "kernelspec": {
      "name": "python3",
      "display_name": "Python 3"
    },
    "language_info": {
      "name": "python"
    }
  },
  "cells": [
    {
      "cell_type": "markdown",
      "metadata": {
        "id": "view-in-github",
        "colab_type": "text"
      },
      "source": [
        "<a href=\"https://colab.research.google.com/github/Akiane-cloudy/Introduction-to-Data-science-competition/blob/main/train.ipynb\" target=\"_parent\"><img src=\"https://colab.research.google.com/assets/colab-badge.svg\" alt=\"Open In Colab\"/></a>"
      ]
    },
    {
      "cell_type": "markdown",
      "source": [
        "# Introduction to data science"
      ],
      "metadata": {
        "id": "pIuTcPbRfg48"
      }
    },
    {
      "cell_type": "markdown",
      "source": [
        "- Competition: `Titanic`\n",
        "- Link: https://www.kaggle.com/competitions/titanic"
      ],
      "metadata": {
        "id": "vFZgnUXNfmYS"
      }
    },
    {
      "cell_type": "code",
      "execution_count": null,
      "metadata": {
        "id": "g2ZoUTLidHta"
      },
      "outputs": [],
      "source": []
    }
  ]
}